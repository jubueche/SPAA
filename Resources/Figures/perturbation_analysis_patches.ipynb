{
 "cells": [
  {
   "cell_type": "code",
   "execution_count": 3,
   "id": "f942bd1f",
   "metadata": {},
   "outputs": [],
   "source": [
    "import h5py\n",
    "import numpy as np\n",
    "import matplotlib.pyplot as plt"
   ]
  },
  {
   "cell_type": "code",
   "execution_count": 4,
   "id": "0bc7d408",
   "metadata": {},
   "outputs": [
    {
     "name": "stdout",
     "output_type": "stream",
     "text": [
      "<KeysViewHDF5 ['attack_successful', 'attacked_spiketrains', 'attacked_spiketrains_random', 'ground_truth', 'n_spikes_attk', 'n_spikes_orig', 'original_spiketrains', 'random_patch_successful_rate', 'sinabs_label', 'targeted_patch_successful_rate']>\n"
     ]
    }
   ],
   "source": [
    "with h5py.File(\"../Results/attacks_patches_ep10_lb4_num50_patchsize025.h5\", \"r\") as F:\n",
    "    idx = F['attack_successful'][()]\n",
    "    gt_all = F['ground_truth'][()]\n",
    "    gt = gt_all[idx]\n",
    "    sinabs_out = F['sinabs_label'][()]\n",
    "    spk_orig = F['n_spikes_orig'][idx]\n",
    "    spk_attk = F['n_spikes_attk'][idx]\n",
    "    print(F.keys())"
   ]
  },
  {
   "cell_type": "code",
   "execution_count": 5,
   "id": "04708d14",
   "metadata": {},
   "outputs": [],
   "source": [
    "report = np.loadtxt(\"../Results/report_ep10_lb4_num50_patchsize0.025.csv\", skiprows=1, delimiter=\",\")\n",
    "\n",
    "(\n",
    "    _, gt2, chip_out, sim_out,\n",
    "    chip_out_attacked_targeted, chip_out_attacked_random,\n",
    "    sim_out_attacked_targeted, sim_out_attacked_random\n",
    ") = report.T\n",
    "\n",
    "assert np.all(gt == gt2)\n",
    "assert len(gt) == len(spk_orig) == len(spk_attk)"
   ]
  },
  {
   "cell_type": "code",
   "execution_count": 6,
   "id": "3aba4ffb",
   "metadata": {},
   "outputs": [
    {
     "name": "stdout",
     "output_type": "stream",
     "text": [
      "Fraction of cases where sinabs got the right label: 0.9\n",
      "Fraction of successful attacks: 0.9\n"
     ]
    }
   ],
   "source": [
    "print(\"Fraction of cases where sinabs got the right label:\", (sinabs_out == gt_all).mean())\n",
    "print(\"Fraction of successful attacks:\", idx.mean())"
   ]
  },
  {
   "cell_type": "code",
   "execution_count": 15,
   "id": "859a467a",
   "metadata": {},
   "outputs": [],
   "source": [
    "class_labels = [\n",
    "    \"Hand Clap\",\n",
    "    \"RH Wave\",\n",
    "    \"LH Wave\",\n",
    "    \"RH CW\",\n",
    "    \"RH CCW\",\n",
    "    \"LH CW\",\n",
    "    \"LH CCW\",\n",
    "    \"Arm Roll\",\n",
    "    \"Air Drums\",\n",
    "    \"Air Guitar\",\n",
    "    \"Other\",\n",
    "]\n",
    "# class_labels = [\"-\"]"
   ]
  },
  {
   "cell_type": "markdown",
   "id": "6ff210f0",
   "metadata": {},
   "source": [
    "# video"
   ]
  },
  {
   "cell_type": "code",
   "execution_count": 22,
   "id": "ff1f3c4d",
   "metadata": {},
   "outputs": [
    {
     "name": "stdout",
     "output_type": "stream",
     "text": [
      "6.0 4.0\n",
      "3.0 4.0\n",
      "3.0 4.0\n",
      "7.0 4.0\n",
      "6.0 4.0\n",
      "9.0 4.0\n",
      "7.0 4.0\n",
      "10.0 4.0\n",
      "9.0 4.0\n",
      "3.0 4.0\n",
      "3.0 4.0\n",
      "3.0 4.0\n",
      "6.0 4.0\n",
      "7.0 4.0\n",
      "7.0 4.0\n",
      "1.0 4.0\n",
      "6.0 4.0\n",
      "3.0 4.0\n",
      "1.0 4.0\n",
      "6.0 4.0\n"
     ]
    }
   ],
   "source": [
    "from aermanager.preprocess import create_raster_from_xytp\n",
    "\n",
    "fps = 25\n",
    "slowdown = 10\n",
    "T = 0.2 # 200 ms\n",
    "pause = 10\n",
    "dt = 1000000/fps/slowdown\n",
    "length = int(slowdown*fps*T)\n",
    "bins = np.arange(129)\n",
    "\n",
    "F = h5py.File(\"../Results/attacks_patches_ep10_lb4_num50_patchsize025.h5\", \"r\")\n",
    "N = 20\n",
    "orig, attk = np.zeros((2, N*(length+pause), 128, 128))\n",
    "orig_labels, attk_labels = [], []\n",
    "\n",
    "attacked_IDs = sorted([int(k) for k in F['attacked_spiketrains'].keys()])\n",
    "\n",
    "i = 0\n",
    "for j, k in enumerate(attacked_IDs):\n",
    "    if i >= N: break\n",
    "\n",
    "    if chip_out[j] != 4 and chip_out_attacked_targeted[j] == 4:        \n",
    "        spk_orig = F['original_spiketrains'][str(k)][()]\n",
    "        spk_attk = F['attacked_spiketrains'][str(k)][()]\n",
    "        orig_labels.append(chip_out[j])\n",
    "        attk_labels.append(chip_out_attacked_targeted[j])\n",
    "\n",
    "        start = i*(length+pause)\n",
    "\n",
    "        raster_orig = create_raster_from_xytp(spk_orig, dt=dt, bins_x=bins, bins_y=bins)\n",
    "        orig[start:start+length] = raster_orig[:, 1] - raster_orig[:, 0]\n",
    "        raster_attk = create_raster_from_xytp(spk_attk, dt=dt, bins_x=bins, bins_y=bins)\n",
    "        attk[start:start+length] = raster_attk[:, 1] - raster_attk[:, 0]\n",
    "    \n",
    "        i += 1\n",
    "\n",
    "F.close()"
   ]
  },
  {
   "cell_type": "code",
   "execution_count": 23,
   "id": "2ff98bee",
   "metadata": {},
   "outputs": [
    {
     "data": {
      "image/png": "[encoded data removed]",
      "text/plain": [
       "<Figure size 720x395.52 with 2 Axes>"
      ]
     },
     "metadata": {},
     "output_type": "display_data"
    }
   ],
   "source": [
    "from matplotlib import animation\n",
    "\n",
    "fig, ax = plt.subplots(1,2, figsize=(10, 5.5))\n",
    "\n",
    "MAX = 3 \n",
    "\n",
    "im = ax[0].imshow(\n",
    "    np.zeros((128, 128)),\n",
    "    interpolation='none',\n",
    "    vmin=-MAX, vmax=MAX,\n",
    "    cmap=plt.cm.twilight\n",
    ")\n",
    "ax[0].set_xticks([])\n",
    "ax[0].set_yticks([])\n",
    "im2 = ax[1].imshow(\n",
    "    np.zeros((128, 128)),\n",
    "    interpolation='none',\n",
    "    vmin=-MAX, vmax=MAX,\n",
    "    cmap=plt.cm.twilight\n",
    ")\n",
    "ax[1].set_xticks([])\n",
    "ax[1].set_yticks([])\n",
    "ax[0].set_title(\"Original data (correct prediction)\")\n",
    "ax[1].set_title(\"After attack\")\n",
    "\n",
    "t = ax[0].text(1, 5, \"Prediction:\", c='white', size=15)\n",
    "t2 = ax[1].text(1, 5, \"Prediction:\", c='white', size=15)\n",
    "\n",
    "# initialization function: plot the background of each frame\n",
    "def init():\n",
    "    im.set_data(np.zeros((128, 128)))\n",
    "    im2.set_data(np.zeros((128, 128)))\n",
    "    \n",
    "    return [im]\n",
    "\n",
    "# animation function.  This is called sequentially\n",
    "def animate(i):\n",
    "    im.set_array(orig[i])\n",
    "    im2.set_array(attk[i])\n",
    "    \n",
    "    orig_label = class_labels[int(orig_labels[i // (length + pause)])]\n",
    "    attk_label = class_labels[int(attk_labels[i // (length + pause)])]\n",
    "    t.set_text(orig_label)\n",
    "    t2.set_text(attk_label)\n",
    "    return [im]\n",
    "      \n",
    "fig.tight_layout()\n",
    "anim = animation.FuncAnimation(fig, animate, init_func=init,\n",
    "               frames=len(orig), blit=True)\n",
    "\n",
    "# save the animation as an mp4.  This requires ffmpeg or mencoder to be\n",
    "# installed.  The extra_args ensure that the x264 codec is used, so that\n",
    "# the video can be embedded in html5.  You may need to adjust this for\n",
    "# your system: for more information, see\n",
    "# http://matplotlib.sourceforge.net/api/animation_api.html\n",
    "anim.save('patches_animation.mp4', fps=fps, dpi=150, extra_args=['-vcodec', 'libx264'])\n",
    "\n",
    "\n",
    "plt.show()"
   ]
  },
  {
   "cell_type": "markdown",
   "id": "5ea2941d",
   "metadata": {},
   "source": [
    "# static figure"
   ]
  },
  {
   "cell_type": "code",
   "execution_count": 104,
   "id": "36a43a26",
   "metadata": {},
   "outputs": [],
   "source": [
    "k = '0'\n",
    "N_cols = 5\n",
    "N_rows = 1\n",
    "sample_len_ms = 200\n",
    "dt = sample_len_ms / N_cols * 1000\n",
    "bins = np.arange(129)\n",
    "\n",
    "with h5py.File(\"../Results/attacks_patches_ep10_lb4_num50_patchsize025.h5\", \"r\") as F:\n",
    "    spk_orig = F['original_spiketrains'][k][()]\n",
    "    spk_attk = F['attacked_spiketrains'][k][()]\n",
    "    \n",
    "    raster_orig = create_raster_from_xytp(spk_orig, dt=dt, bins_x=bins, bins_y=bins).sum(1)\n",
    "    raster_attk = create_raster_from_xytp(spk_attk, dt=dt, bins_x=bins, bins_y=bins).sum(1)\n",
    "    raster_diff = raster_attk - raster_orig"
   ]
  },
  {
   "cell_type": "code",
   "execution_count": 112,
   "id": "9970df99",
   "metadata": {},
   "outputs": [
    {
     "data": {
      "image/png": "[encoded data removed]",
      "text/plain": [
       "<Figure size 864x338.4 with 5 Axes>"
      ]
     },
     "metadata": {},
     "output_type": "display_data"
    }
   ],
   "source": [
    "import matplotlib as mpl\n",
    "\n",
    "colors = [(1., 0., 0., 0.0), (1., 0., 0., 1.0)]\n",
    "nodes = [0, 1]\n",
    "cmap = mpl.colors.LinearSegmentedColormap.from_list(\n",
    "    \"transparent_red\", list(zip(nodes, colors)))\n",
    "\n",
    "fig = plt.figure(constrained_layout=True, figsize=(12, 4.7))\n",
    "spec = mpl.gridspec.GridSpec(ncols=N_cols, nrows=N_rows, figure=fig)\n",
    "axes = [fig.add_subplot(spec[i, j]) for i in range(N_rows) for j in range(N_cols)]\n",
    "time_labels = [\"%.1f ms\" % (dt*i/1000) for i in range(len(axes))]\n",
    "\n",
    "\n",
    "for i, ax in enumerate(axes):\n",
    "    ax.set_aspect(\"equal\")\n",
    "    ax.tick_params(axis='both',\n",
    "                   which='both',\n",
    "                   bottom=False,\n",
    "                   top=False,\n",
    "                   labelbottom=False,\n",
    "                   right=False,\n",
    "                   left=False,\n",
    "                   labelleft=False)\n",
    "    \n",
    "    ax.pcolormesh(raster_orig[i][::-1], vmin=0, vmax=5, cmap=plt.cm.gray_r)\n",
    "    ax.pcolormesh(raster_diff[i][::-1], vmin=0, vmax=5, cmap=cmap)\n",
    "    ax.text(2, 2, time_labels[i])\n",
    "\n",
    "i = 0 # i and k are not the same thing, determining this manually, sorry\n",
    "label_orig = class_labels[int(chip_out[i])]\n",
    "label_attk = class_labels[int(chip_out_attacked_targeted[i])]\n",
    "axes[0].set_ylabel(fr\"{label_orig}$\\rightarrow${label_attk}\")\n",
    "\n",
    "plt.savefig(\"patches_sample.png\", bbox_inches='tight')"
   ]
  },
  {
   "cell_type": "code",
   "execution_count": null,
   "id": "df3a5a42",
   "metadata": {},
   "outputs": [],
   "source": []
  },
  {
   "cell_type": "code",
   "execution_count": null,
   "id": "72c32930",
   "metadata": {},
   "outputs": [],
   "source": []
  }
 ],
 "metadata": {
  "kernelspec": {
   "display_name": "Python 3 (ipykernel)",
   "language": "python",
   "name": "python3"
  },
  "language_info": {
   "codemirror_mode": {
    "name": "ipython",
    "version": 3
   },
   "file_extension": ".py",
   "mimetype": "text/x-python",
   "name": "python",
   "nbconvert_exporter": "python",
   "pygments_lexer": "ipython3",
   "version": "3.9.6"
  }
 },
 "nbformat": 4,
 "nbformat_minor": 5
}
